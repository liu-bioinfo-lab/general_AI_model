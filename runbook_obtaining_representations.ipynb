{
  "nbformat": 4,
  "nbformat_minor": 0,
  "metadata": {
    "colab": {
      "provenance": [],
      "gpuType": "V28",
      "authorship_tag": "ABX9TyO+yrj9EJFyP2tRFYsPDjRa",
      "include_colab_link": true
    },
    "kernelspec": {
      "name": "python3",
      "display_name": "Python 3"
    },
    "language_info": {
      "name": "python"
    },
    "accelerator": "TPU"
  },
  "cells": [
    {
      "cell_type": "markdown",
      "metadata": {
        "id": "view-in-github",
        "colab_type": "text"
      },
      "source": [
        "<a href=\"https://colab.research.google.com/github/liu-bioinfo-lab/general_AI_model/blob/main/runbook_obtaining_representations.ipynb\" target=\"_parent\"><img src=\"https://colab.research.google.com/assets/colab-badge.svg\" alt=\"Open In Colab\"/></a>"
      ]
    },
    {
      "cell_type": "markdown",
      "source": [
        "Please open Google Colab notebook under TPU/GPU setting : **Runtime -> Change runtime type**"
      ],
      "metadata": {
        "id": "D5qpZqD-RGg0"
      }
    },
    {
      "cell_type": "code",
      "execution_count": 1,
      "metadata": {
        "colab": {
          "base_uri": "https://localhost:8080/"
        },
        "id": "vWdYeHm1J31w",
        "outputId": "6157a3fe-09e1-450c-fb02-1b377d872cb9"
      },
      "outputs": [
        {
          "output_type": "stream",
          "name": "stdout",
          "text": [
            "Cloning into 'general_AI_model'...\n",
            "remote: Enumerating objects: 133, done.\u001b[K\n",
            "remote: Counting objects: 100% (22/22), done.\u001b[K\n",
            "remote: Compressing objects: 100% (17/17), done.\u001b[K\n",
            "remote: Total 133 (delta 10), reused 11 (delta 5), pack-reused 111 (from 2)\u001b[K\n",
            "Receiving objects: 100% (133/133), 68.62 MiB | 39.12 MiB/s, done.\n",
            "Resolving deltas: 100% (11/11), done.\n",
            "/content/general_AI_model\n"
          ]
        }
      ],
      "source": [
        "!git clone https://github.com/liu-bioinfo-lab/general_AI_model.git\n",
        "%cd general_AI_model"
      ]
    },
    {
      "cell_type": "code",
      "source": [
        "import os\n",
        "import gdown\n",
        "from src.model import build_model\n",
        "import argparse\n",
        "import torch\n",
        "try:\n",
        "  import torch_xla\n",
        "  import torch_xla.core.xla_model as xm\n",
        "  import torch_xla.distributed.xla_multiprocessing as xmp\n",
        "except Exception as e:\n",
        "  print(f\" Error: {e}\")\n",
        "!pip install kipoiseq==0.5.2 --quiet > /dev/null\n",
        "import kipoiseq\n",
        "from kipoiseq import Interval\n",
        "import pyfaidx\n",
        "import pickle\n",
        "import numpy as np\n",
        "from src.tutorial_utils import FastaStringExtractor, prepare_input, extract_outputs, get_args"
      ],
      "metadata": {
        "id": "DgYhJxG-Kq_D",
        "colab": {
          "base_uri": "https://localhost:8080/"
        },
        "outputId": "f50ba3e3-f7b9-404b-a3f4-383baebfff5c"
      },
      "execution_count": 2,
      "outputs": [
        {
          "output_type": "stream",
          "name": "stdout",
          "text": [
            "\u001b[31mERROR: pip's dependency resolver does not currently take into account all the packages that are installed. This behaviour is the source of the following dependency conflicts.\n",
            "referencing 0.36.2 requires attrs>=22.2.0, but you have attrs 21.4.0 which is incompatible.\n",
            "jsonschema 4.24.0 requires attrs>=22.2.0, but you have attrs 21.4.0 which is incompatible.\u001b[0m\u001b[31m\n",
            "\u001b[0m"
          ]
        },
        {
          "output_type": "stream",
          "name": "stderr",
          "text": [
            "WARNING:kipoi_utils.external.related.mixins:Unrecognized fields for DataLoaderDescription: {'postprocessing'}. Available fields are {'dependencies', 'path', 'defined_as', 'info', 'type', 'args', 'output_schema', 'writers'}\n",
            "WARNING:kipoi_utils.external.related.mixins:Unrecognized fields for DataLoaderDescription: {'postprocessing'}. Available fields are {'dependencies', 'path', 'defined_as', 'info', 'type', 'args', 'output_schema', 'writers'}\n",
            "WARNING:kipoi_utils.external.related.mixins:Unrecognized fields for DataLoaderDescription: {'postprocessing'}. Available fields are {'dependencies', 'path', 'defined_as', 'info', 'type', 'args', 'output_schema', 'writers'}\n"
          ]
        }
      ]
    },
    {
      "cell_type": "markdown",
      "source": [
        "**Download Model**"
      ],
      "metadata": {
        "id": "auzsboB1NfQn"
      }
    },
    {
      "cell_type": "code",
      "source": [
        "os.makedirs('models', exist_ok=True)\n",
        "model_path = 'models/ckpt.pt'\n",
        "gdown.download('https://drive.google.com/uc?id=1aTpGvAUkvaxsDP_isA2n2Udbfqa9walW', model_path, quiet=False)"
      ],
      "metadata": {
        "colab": {
          "base_uri": "https://localhost:8080/",
          "height": 125
        },
        "id": "nZGmMdViMR2I",
        "outputId": "5c5c352d-2eee-4d50-cf05-c748b20ff59a"
      },
      "execution_count": 3,
      "outputs": [
        {
          "output_type": "stream",
          "name": "stderr",
          "text": [
            "Downloading...\n",
            "From (original): https://drive.google.com/uc?id=1aTpGvAUkvaxsDP_isA2n2Udbfqa9walW\n",
            "From (redirected): https://drive.google.com/uc?id=1aTpGvAUkvaxsDP_isA2n2Udbfqa9walW&confirm=t&uuid=981e3956-c687-4f46-af4b-eb4410b7f210\n",
            "To: /content/general_AI_model/models/ckpt.pt\n",
            "100%|██████████| 468M/468M [00:02<00:00, 183MB/s]\n"
          ]
        },
        {
          "output_type": "execute_result",
          "data": {
            "text/plain": [
              "'models/ckpt.pt'"
            ],
            "application/vnd.google.colaboratory.intrinsic+json": {
              "type": "string"
            }
          },
          "metadata": {},
          "execution_count": 3
        }
      ]
    },
    {
      "cell_type": "code",
      "source": [
        "\n",
        "### The following codes are copied from https://github.com/deepmind/deepmind-research/blob/master/enformer/enformer-usage.ipynb\n",
        "fasta_file = '/root/data/genome.fa'\n",
        "!mkdir -p /root/data\n",
        "!wget -O - http://hgdownload.cse.ucsc.edu/goldenPath/hg38/bigZips/hg38.fa.gz | gunzip -c > {fasta_file}\n",
        "pyfaidx.Faidx(fasta_file)\n",
        "!ls /root/data\n",
        "\n",
        "fasta_extractor = FastaStringExtractor(fasta_file)"
      ],
      "metadata": {
        "colab": {
          "base_uri": "https://localhost:8080/"
        },
        "id": "98wUTlH9Y0LO",
        "outputId": "7cf9d527-864c-47ed-fa93-86f5a8a7c5de"
      },
      "execution_count": 4,
      "outputs": [
        {
          "output_type": "stream",
          "name": "stdout",
          "text": [
            "--2025-06-22 05:43:27--  http://hgdownload.cse.ucsc.edu/goldenPath/hg38/bigZips/hg38.fa.gz\n",
            "Resolving hgdownload.cse.ucsc.edu (hgdownload.cse.ucsc.edu)... 128.114.119.163\n",
            "Connecting to hgdownload.cse.ucsc.edu (hgdownload.cse.ucsc.edu)|128.114.119.163|:80... connected.\n",
            "HTTP request sent, awaiting response... 200 OK\n",
            "Length: 983659424 (938M) [application/x-gzip]\n",
            "Saving to: ‘STDOUT’\n",
            "\n",
            "-                   100%[===================>] 938.09M  37.2MB/s    in 24s     \n",
            "\n",
            "2025-06-22 05:43:51 (38.9 MB/s) - written to stdout [983659424/983659424]\n",
            "\n",
            "genome.fa  genome.fa.fai\n"
          ]
        }
      ]
    },
    {
      "cell_type": "code",
      "source": [
        "# Download a downsampled GM12878 ATAC-seq for example\n",
        "os.makedirs('tmp_save', exist_ok=True)\n",
        "atac_path = 'tmp_save/GM12878_ATAC.pickle'\n",
        "gdown.download('https://drive.google.com/uc?id=1ua-fQHYjPH658oEKEpIaDBHNFbzsO1m0', atac_path, quiet=False)\n",
        "with open(atac_path, 'rb') as f:\n",
        "    atac_data = pickle.load(f)"
      ],
      "metadata": {
        "colab": {
          "base_uri": "https://localhost:8080/"
        },
        "id": "1PP1IKWSZeu4",
        "outputId": "ad477f8f-209a-4f66-a23d-3e8d31df3091"
      },
      "execution_count": 5,
      "outputs": [
        {
          "output_type": "stream",
          "name": "stderr",
          "text": [
            "Downloading...\n",
            "From (original): https://drive.google.com/uc?id=1ua-fQHYjPH658oEKEpIaDBHNFbzsO1m0\n",
            "From (redirected): https://drive.google.com/uc?id=1ua-fQHYjPH658oEKEpIaDBHNFbzsO1m0&confirm=t&uuid=900c0949-ef09-4503-a524-cfd6aa8681fa\n",
            "To: /content/general_AI_model/tmp_save/GM12878_ATAC.pickle\n",
            "100%|██████████| 192M/192M [00:00<00:00, 233MB/s]\n",
            "/tmp/ipython-input-5-3254570976.py:6: DeprecationWarning: Please import `csr_matrix` from the `scipy.sparse` namespace; the `scipy.sparse.csr` namespace is deprecated and will be removed in SciPy 2.0.0.\n",
            "  atac_data = pickle.load(f)\n"
          ]
        }
      ]
    },
    {
      "cell_type": "markdown",
      "source": [
        "### Load model"
      ],
      "metadata": {
        "id": "Rhzni_KcF7pT"
      }
    },
    {
      "cell_type": "code",
      "source": [
        "args = get_args()\n",
        "try:\n",
        "    device = xm.xla_device()\n",
        "    print(f\"XLA device detected: {device}\")\n",
        "except Exception as e:\n",
        "    device = torch.device('cuda:0' if torch.cuda.is_available() else 'cpu')\n",
        "    print(f\"No XLA device detected. Error: {e}\")\n",
        "\n",
        "model = build_model(args)\n",
        "model.load_state_dict(torch.load(model_path, map_location='cpu'),strict=True)\n",
        "model.eval()\n",
        "model.to(device)\n",
        "device"
      ],
      "metadata": {
        "colab": {
          "base_uri": "https://localhost:8080/"
        },
        "id": "jF1WQNSQNL6O",
        "outputId": "93e3de8b-f283-40fd-db36-ff45b31f19c7"
      },
      "execution_count": 6,
      "outputs": [
        {
          "output_type": "stream",
          "name": "stdout",
          "text": [
            "XLA device detected: xla:0\n"
          ]
        },
        {
          "output_type": "execute_result",
          "data": {
            "text/plain": [
              "device(type='xla', index=0)"
            ]
          },
          "metadata": {},
          "execution_count": 6
        }
      ]
    },
    {
      "cell_type": "markdown",
      "source": [
        "### Run model to get 1D and 2D representations over a 500kb region"
      ],
      "metadata": {
        "id": "lKFgC1KeGAft"
      }
    },
    {
      "cell_type": "code",
      "source": [
        "# specify a 500kb region\n",
        "\n",
        "chrom, start, end = ['chr1', 1500000, 2000000]\n",
        "\n",
        "input_x = prepare_input(\n",
        "    fasta_extractor,\n",
        "    chrom, start, end,\n",
        "    atac_data\n",
        ").to(device)\n",
        "\n",
        "outputs = model(input_x,return_rep=True)\n",
        "\n",
        "rep1d, rep2d = extract_outputs(outputs)"
      ],
      "metadata": {
        "id": "E7OOCIXQR37c"
      },
      "execution_count": 7,
      "outputs": []
    },
    {
      "cell_type": "markdown",
      "source": [
        "### embedding size"
      ],
      "metadata": {
        "id": "qM6tTrusFzkI"
      }
    },
    {
      "cell_type": "code",
      "source": [
        "## representation of each 1kb bin in 500kb region\n",
        "\n",
        "rep1d.shape"
      ],
      "metadata": {
        "colab": {
          "base_uri": "https://localhost:8080/"
        },
        "id": "f_uN8JH4dzWq",
        "outputId": "ed3d32a9-96f5-4208-b2cb-239ff3af7bc5"
      },
      "execution_count": 8,
      "outputs": [
        {
          "output_type": "execute_result",
          "data": {
            "text/plain": [
              "(500, 960)"
            ]
          },
          "metadata": {},
          "execution_count": 8
        }
      ]
    },
    {
      "cell_type": "code",
      "source": [
        "## representation of interactions among 1kb bins in 500kb region\n",
        "\n",
        "rep2d.shape"
      ],
      "metadata": {
        "id": "99Uavd6IfB9o",
        "colab": {
          "base_uri": "https://localhost:8080/"
        },
        "outputId": "a0812bff-380d-4433-983a-800380e0e293"
      },
      "execution_count": 9,
      "outputs": [
        {
          "output_type": "execute_result",
          "data": {
            "text/plain": [
              "(500, 500, 96)"
            ]
          },
          "metadata": {},
          "execution_count": 9
        }
      ]
    },
    {
      "cell_type": "code",
      "source": [],
      "metadata": {
        "id": "oBPk2aG_JrVE"
      },
      "execution_count": null,
      "outputs": []
    }
  ]
}