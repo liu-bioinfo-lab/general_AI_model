{
  "cells": [
    {
      "cell_type": "markdown",
      "metadata": {
        "id": "view-in-github",
        "colab_type": "text"
      },
      "source": [
        "<a href=\"https://colab.research.google.com/github/liu-bioinfo-lab/general_AI_model/blob/main/epcotv2_basic_tutorial.ipynb\" target=\"_parent\"><img src=\"https://colab.research.google.com/assets/colab-badge.svg\" alt=\"Open In Colab\"/></a>"
      ]
    },
    {
      "cell_type": "markdown",
      "metadata": {
        "id": "D5qpZqD-RGg0"
      },
      "source": [
        "Please open Google Colab notebook under TPU/GPU setting : **Runtime -> Change runtime type**"
      ]
    },
    {
      "cell_type": "code",
      "execution_count": null,
      "metadata": {
        "colab": {
          "base_uri": "https://localhost:8080/"
        },
        "id": "vWdYeHm1J31w",
        "outputId": "6157a3fe-09e1-450c-fb02-1b377d872cb9"
      },
      "outputs": [
        {
          "name": "stdout",
          "output_type": "stream",
          "text": [
            "fatal: destination path 'general_AI_model' already exists and is not an empty directory.\n",
            "/nfs/turbo/umms-drjieliu/usr/xinyubao/clipEPCOT/general_AI_model/general_AI_model\n"
          ]
        }
      ],
      "source": [
        "!git clone https://github.com/liu-bioinfo-lab/general_AI_model.git\n",
        "%cd general_AI_model"
      ]
    },
    {
      "cell_type": "code",
      "execution_count": null,
      "metadata": {
        "colab": {
          "base_uri": "https://localhost:8080/"
        },
        "id": "DgYhJxG-Kq_D",
        "outputId": "f50ba3e3-f7b9-404b-a3f4-383baebfff5c"
      },
      "outputs": [
        {
          "name": "stdout",
          "output_type": "stream",
          "text": [
            " Error: No module named 'torch_xla'\n"
          ]
        }
      ],
      "source": [
        "import os\n",
        "import gdown\n",
        "from src.model import build_model\n",
        "import argparse\n",
        "import torch\n",
        "try:\n",
        "  import torch_xla\n",
        "  import torch_xla.core.xla_model as xm\n",
        "  import torch_xla.distributed.xla_multiprocessing as xmp\n",
        "except Exception as e:\n",
        "  print(f\" Error: {e}\")\n",
        "!pip install kipoiseq==0.5.2 --quiet > /dev/null\n",
        "import kipoiseq\n",
        "from kipoiseq import Interval\n",
        "import pyfaidx\n",
        "import pickle\n",
        "import numpy as np\n",
        "import matplotlib.pyplot as plt\n",
        "from mpl_toolkits.axes_grid1 import make_axes_locatable\n",
        "from src.tutorial_utils import FastaStringExtractor, prepare_input, extract_outputs, get_args"
      ]
    },
    {
      "cell_type": "markdown",
      "metadata": {
        "id": "auzsboB1NfQn"
      },
      "source": [
        "**Download Model**"
      ]
    },
    {
      "cell_type": "code",
      "execution_count": null,
      "metadata": {
        "colab": {
          "base_uri": "https://localhost:8080/",
          "height": 125
        },
        "id": "nZGmMdViMR2I",
        "outputId": "5c5c352d-2eee-4d50-cf05-c748b20ff59a"
      },
      "outputs": [
        {
          "name": "stderr",
          "output_type": "stream",
          "text": [
            "Downloading...\n",
            "From (original): https://drive.google.com/uc?id=1aTpGvAUkvaxsDP_isA2n2Udbfqa9walW\n",
            "From (redirected): https://drive.google.com/uc?id=1aTpGvAUkvaxsDP_isA2n2Udbfqa9walW&confirm=t&uuid=e267e020-96ec-4241-a81c-d5212119e6fe\n",
            "To: /nfs/turbo/umms-drjieliu/usr/xinyubao/clipEPCOT/general_AI_model/general_AI_model/models/ckpt.pt\n",
            "100%|██████████| 468M/468M [00:09<00:00, 47.9MB/s] \n"
          ]
        },
        {
          "data": {
            "text/plain": [
              "'models/ckpt.pt'"
            ]
          },
          "execution_count": 3,
          "metadata": {},
          "output_type": "execute_result"
        }
      ],
      "source": [
        "os.makedirs('models', exist_ok=True)\n",
        "model_path = 'models/ckpt.pt'\n",
        "gdown.download('https://drive.google.com/uc?id=1aTpGvAUkvaxsDP_isA2n2Udbfqa9walW', model_path, quiet=False)"
      ]
    },
    {
      "cell_type": "code",
      "execution_count": null,
      "metadata": {
        "colab": {
          "base_uri": "https://localhost:8080/"
        },
        "id": "98wUTlH9Y0LO",
        "outputId": "7cf9d527-864c-47ed-fa93-86f5a8a7c5de"
      },
      "outputs": [
        {
          "name": "stdout",
          "output_type": "stream",
          "text": [
            "--2025-09-25 21:39:18--  http://hgdownload.cse.ucsc.edu/goldenPath/hg38/bigZips/hg38.fa.gz\n",
            "Resolving proxy1.arc-ts.umich.edu (proxy1.arc-ts.umich.edu)... 141.211.192.53\n",
            "Connecting to proxy1.arc-ts.umich.edu (proxy1.arc-ts.umich.edu)|141.211.192.53|:3128... connected.\n",
            "Proxy request sent, awaiting response... 200 OK\n",
            "Length: 983659424 (938M) [application/x-gzip]\n",
            "Saving to: ‘STDOUT’\n",
            "\n",
            "-                   100%[===================>] 938.09M  18.9MB/s    in 46s     \n",
            "\n",
            "2025-09-25 21:40:06 (20.5 MB/s) - written to stdout [983659424/983659424]\n",
            "\n",
            "accession_number.xlsx  epi_list\t\t  genome.fa.fai\t\t  README.md\n",
            "black_list.bed\t       extra_tf_list.txt  hic_process.py\n",
            "data_read.py\t       genome.fa\t  input_region_600kb.bed\n"
          ]
        }
      ],
      "source": [
        "\n",
        "### The following codes are copied from https://github.com/deepmind/deepmind-research/blob/master/enformer/enformer-usage.ipynb\n",
        "fasta_file = 'data/genome.fa'\n",
        "!mkdir -p data\n",
        "!wget -O - http://hgdownload.cse.ucsc.edu/goldenPath/hg38/bigZips/hg38.fa.gz | gunzip -c > {fasta_file}\n",
        "pyfaidx.Faidx(fasta_file)\n",
        "!ls data\n",
        "\n",
        "fasta_extractor = FastaStringExtractor(fasta_file)"
      ]
    },
    {
      "cell_type": "code",
      "execution_count": null,
      "metadata": {
        "colab": {
          "base_uri": "https://localhost:8080/"
        },
        "id": "1PP1IKWSZeu4",
        "outputId": "ad477f8f-209a-4f66-a23d-3e8d31df3091"
      },
      "outputs": [
        {
          "name": "stderr",
          "output_type": "stream",
          "text": [
            "Downloading...\n",
            "From (original): https://drive.google.com/uc?id=1ua-fQHYjPH658oEKEpIaDBHNFbzsO1m0\n",
            "From (redirected): https://drive.google.com/uc?id=1ua-fQHYjPH658oEKEpIaDBHNFbzsO1m0&confirm=t&uuid=67c2cc5b-283d-4e4e-b523-d4d862bed546\n",
            "To: /nfs/turbo/umms-drjieliu/usr/xinyubao/clipEPCOT/general_AI_model/general_AI_model/tmp_save/GM12878_ATAC.pickle\n",
            "100%|██████████| 192M/192M [00:04<00:00, 47.3MB/s] \n",
            "/tmp/ipykernel_2851135/3254570976.py:6: DeprecationWarning: Please import `csr_matrix` from the `scipy.sparse` namespace; the `scipy.sparse.csr` namespace is deprecated and will be removed in SciPy 2.0.0.\n",
            "  atac_data = pickle.load(f)\n"
          ]
        }
      ],
      "source": [
        "# Download a downsampled GM12878 ATAC-seq for example\n",
        "os.makedirs('tmp_save', exist_ok=True)\n",
        "atac_path = 'tmp_save/GM12878_ATAC.pickle'\n",
        "gdown.download('https://drive.google.com/uc?id=1ua-fQHYjPH658oEKEpIaDBHNFbzsO1m0', atac_path, quiet=False)\n",
        "with open(atac_path, 'rb') as f:\n",
        "    atac_data = pickle.load(f)"
      ]
    },
    {
      "cell_type": "markdown",
      "metadata": {
        "id": "Rhzni_KcF7pT"
      },
      "source": [
        "### Load model"
      ]
    },
    {
      "cell_type": "code",
      "execution_count": null,
      "metadata": {
        "colab": {
          "base_uri": "https://localhost:8080/"
        },
        "id": "jF1WQNSQNL6O",
        "outputId": "93e3de8b-f283-40fd-db36-ff45b31f19c7"
      },
      "outputs": [
        {
          "name": "stdout",
          "output_type": "stream",
          "text": [
            "No XLA device detected. Error: name 'xm' is not defined\n"
          ]
        },
        {
          "name": "stderr",
          "output_type": "stream",
          "text": [
            "/tmp/ipykernel_2851135/2176896603.py:10: FutureWarning: You are using `torch.load` with `weights_only=False` (the current default value), which uses the default pickle module implicitly. It is possible to construct malicious pickle data which will execute arbitrary code during unpickling (See https://github.com/pytorch/pytorch/blob/main/SECURITY.md#untrusted-models for more details). In a future release, the default value for `weights_only` will be flipped to `True`. This limits the functions that could be executed during unpickling. Arbitrary objects will no longer be allowed to be loaded via this mode unless they are explicitly allowlisted by the user via `torch.serialization.add_safe_globals`. We recommend you start setting `weights_only=True` for any use case where you don't have full control of the loaded file. Please open an issue on GitHub for any issues related to this experimental feature.\n",
            "  model.load_state_dict(torch.load(model_path, map_location='cpu'),strict=True)\n"
          ]
        },
        {
          "data": {
            "text/plain": [
              "device(type='cuda', index=0)"
            ]
          },
          "execution_count": 6,
          "metadata": {},
          "output_type": "execute_result"
        }
      ],
      "source": [
        "args = get_args()\n",
        "try:\n",
        "    device = xm.xla_device()\n",
        "    print(f\"XLA device detected: {device}\")\n",
        "except Exception as e:\n",
        "    device = torch.device('cuda:0' if torch.cuda.is_available() else 'cpu')\n",
        "    print(f\"No XLA device detected. Error: {e}\")\n",
        "\n",
        "model = build_model(args)\n",
        "model.load_state_dict(torch.load(model_path, map_location='cpu'),strict=True)\n",
        "model.eval()\n",
        "model.to(device)\n",
        "device"
      ]
    },
    {
      "cell_type": "markdown",
      "metadata": {
        "id": "lKFgC1KeGAft"
      },
      "source": [
        "### Run model to get 1D and 2D representations over a 500kb region"
      ]
    },
    {
      "cell_type": "code",
      "execution_count": null,
      "metadata": {
        "id": "E7OOCIXQR37c"
      },
      "outputs": [],
      "source": [
        "# specify a 500kb region\n",
        "\n",
        "chrom, start, end = ['chr1', 1500000, 2000000]\n",
        "\n",
        "input_x = prepare_input(\n",
        "    fasta_extractor,\n",
        "    chrom, start, end,\n",
        "    atac_data\n",
        ").to(device)\n",
        "\n",
        "outputs = model(input_x,return_rep=True)\n",
        "\n",
        "rep1d, rep2d = extract_outputs(outputs)"
      ]
    },
    {
      "cell_type": "markdown",
      "metadata": {
        "id": "rfyfzocnEbwl"
      },
      "source": [
        "#### embedding size"
      ]
    },
    {
      "cell_type": "code",
      "execution_count": null,
      "metadata": {
        "id": "oth8xZOjEbwl",
        "outputId": "94b29dd4-c9bd-4469-9ec7-719008d22226"
      },
      "outputs": [
        {
          "data": {
            "text/plain": [
              "((500, 960), (500, 500, 96))"
            ]
          },
          "execution_count": 8,
          "metadata": {},
          "output_type": "execute_result"
        }
      ],
      "source": [
        "## representation of each 1kb bin and interactions among 1kb bins in 500kb region\n",
        "rep1d.shape, rep2d.shape"
      ]
    },
    {
      "cell_type": "markdown",
      "metadata": {
        "id": "tXoZ9XCEEbwl"
      },
      "source": [
        "### Prediction"
      ]
    },
    {
      "cell_type": "code",
      "execution_count": null,
      "metadata": {
        "id": "xjUPJHDMEbwl"
      },
      "outputs": [],
      "source": [
        "modalities=['epi', 'rna', 'bru', 'microc', 'hic','intacthic','rna_strand','external_tf', 'tt', 'groseq', 'grocap', 'proseq','netcage','starr']\n",
        "_, _, output,external_output = outputs\n",
        "mix_output=[out.cpu().data.detach().numpy() for out in (output+external_output)]\n",
        "out_dic=dict(zip(modalities,mix_output))"
      ]
    },
    {
      "cell_type": "code",
      "execution_count": null,
      "metadata": {
        "id": "94TBb1DwEbwl",
        "outputId": "b715d32d-4ccb-47ce-8588-fb286d030ab1"
      },
      "outputs": [
        {
          "name": "stdout",
          "output_type": "stream",
          "text": [
            "epi (1, 500, 247)\n",
            "rna (1, 500, 3)\n",
            "bru (1, 500, 3)\n",
            "microc (1, 500, 500, 2)\n",
            "hic (1, 100, 100, 3)\n",
            "intacthic (1, 500, 500, 2)\n",
            "rna_strand (1, 500, 2)\n",
            "external_tf (1, 500, 708)\n",
            "tt (1, 500, 2)\n",
            "groseq (1, 500, 2)\n",
            "grocap (1, 500, 4)\n",
            "proseq (1, 500, 3)\n",
            "netcage (1, 500, 2)\n",
            "starr (1, 500, 1)\n"
          ]
        }
      ],
      "source": [
        "# the last dimension corresponds to modalities being predicted\n",
        "for m in modalities:\n",
        "    print(m,out_dic[m].shape)"
      ]
    },
    {
      "cell_type": "markdown",
      "metadata": {
        "id": "SC3vF4wpEbwl"
      },
      "source": [
        "### Explanation of each modality that can be predicted\n",
        "\n",
        "* __Epigenomic features (epi).__ The list of epigenomic features can be found in \"data/epi_list\".\n",
        "\n",
        "* __RNA-seq (rna).__\n",
        "  - CAGE-seq\n",
        "  - Total RNA-seq\n",
        "  - PolyA+ RNA-seq\n",
        "\n",
        "* __Bru-seq (bru).__\n",
        "  - Bru-seq\n",
        "  - BruUV-seq\n",
        "  - BruChase-seq\n",
        "\n",
        "* __Micro-c (microc).__\n",
        "  - O/E normalized Micro-C\n",
        "  - KR normalized Micro-C\n",
        "\n",
        "* __Hi-C (hic).__\n",
        "  - CTCF ChIA-PET\n",
        "  - RNApol2 ChIA-PET\n",
        "  - Hi-C\n",
        "\n",
        "* __Intact Hi-C (intacthic).__\n",
        "  - O/E normalized intact Hi-C\n",
        "  - KR normalized intact Hi-C\n",
        "\n",
        "* __RNA Strand (rna_strand).__\n",
        "  - Total RNA-seq (forward)\n",
        "  - Total RNA-seq (reverse)\n",
        "\n",
        "* __Additional TFs (external_tf).__ The list of additional TFs can be found on Github in a file named unseen_tf.txt.\n",
        "\n",
        "* __TT-seq (tt).__\n",
        "  - TT-seq (forward)\n",
        "  - TT-seq (reverse)\n",
        "\n",
        "* __GRO-seq (groseq).__\n",
        "  - GRO-seq (forward)\n",
        "  - GRO-seq (reverse)\n",
        "\n",
        "* __GRO-cap (grocap).__\n",
        "  - GRO-cap (forward)\n",
        "  - GRO-cap (reverse)\n",
        "  - GRO-cap_wTAP (forward)\n",
        "  - GRO-cap_wTAP(reverse)\n",
        "\n",
        "* __PRO-seq (proseq).__\n",
        "  - PRO-seq (forward)\n",
        "  - PRO-seq (reverse)\n",
        "  - PRO-cap\n",
        "\n",
        "* __NET-CAGE (netcage).__\n",
        "  - NET-CAGE (forward)\n",
        "  - NET-CAGE (reverse)\n",
        "\n",
        "* __STARR-seq (starr).__ STARR-seq"
      ]
    },
    {
      "cell_type": "markdown",
      "metadata": {
        "id": "mx_WFbJ4Ebwm"
      },
      "source": [
        "### Visualization"
      ]
    },
    {
      "cell_type": "markdown",
      "metadata": {
        "id": "1ozgc05oEbwm"
      },
      "source": [
        "#### 2D map"
      ]
    },
    {
      "cell_type": "code",
      "execution_count": null,
      "metadata": {
        "id": "sDnWVaRWEbwm"
      },
      "outputs": [],
      "source": [
        "hic=out_dic[\"hic\"] # also for microc, intacthic\n",
        "hic_map=hic[0,:,:,0]"
      ]
    },
    {
      "cell_type": "code",
      "execution_count": null,
      "metadata": {
        "id": "j_2l1TuYEbwm",
        "outputId": "e894d5f2-3b45-4cc2-9934-89743adf63ae"
      },
      "outputs": [
        {
          "data": {
            "image/png": "[encoded data removed]",
            "text/plain": [
              "<Figure size 800x800 with 2 Axes>"
            ]
          },
          "metadata": {},
          "output_type": "display_data"
        }
      ],
      "source": [
        "hic_map = np.squeeze(hic_map)\n",
        "fig, ax = plt.subplots(figsize=(8,8))\n",
        "im = ax.imshow(hic_map.squeeze(),cmap='RdBu_r',vmin=0,vmax=2,extent=[start, end, start, end],)\n",
        "divider = make_axes_locatable(ax)\n",
        "cax = divider.append_axes(\"right\", size=\"5%\", pad=0.05)\n",
        "cb = plt.colorbar(im, cax=cax)\n",
        "cb.ax.tick_params(labelsize=16)\n",
        "ax.ticklabel_format(axis='x', style='plain', useOffset=False)\n",
        "ax.ticklabel_format(axis='y', style='plain', useOffset=False)\n",
        "ax.set_xlabel(\"Genomic position (bp)\", fontsize=10)\n",
        "# ax.set_yticks([])\n",
        "# ax.set_xticks([])\n",
        "plt.show()"
      ]
    },
    {
      "cell_type": "markdown",
      "metadata": {
        "id": "IH7wf6AEEbwm"
      },
      "source": [
        "#### 1D sequence"
      ]
    },
    {
      "cell_type": "code",
      "execution_count": null,
      "metadata": {
        "id": "_MLCMXImEbwm"
      },
      "outputs": [],
      "source": [
        "epi_data=out_dic[\"epi\"] # Also for other one dimential sequence\n",
        "epi_map=epi_data[0,:,1] # You can check the epi list at data/epi_list"
      ]
    },
    {
      "cell_type": "code",
      "execution_count": null,
      "metadata": {
        "id": "pzqsweAlEbwm",
        "outputId": "b2cee776-e5f3-4ed4-c9cc-b55604a7cd68"
      },
      "outputs": [
        {
          "data": {
            "image/png": "[encoded data removed]",
            "text/plain": [
              "<Figure size 800x220 with 1 Axes>"
            ]
          },
          "metadata": {},
          "output_type": "display_data"
        }
      ],
      "source": [
        "n_bins = epi_map.shape[0]\n",
        "pixel_width   = (end - start) / n_bins\n",
        "genomic_coords = start + pixel_width/2 + np.arange(n_bins) * pixel_width\n",
        "fig, ax = plt.subplots(figsize=(8, 2.2))\n",
        "sig = np.clip(epi_map, 0, None)\n",
        "ax.plot(genomic_coords, sig, color='blue', lw=1.5)\n",
        "ax.fill_between(genomic_coords, 0, sig, alpha=0.3, color='blue')\n",
        "\n",
        "xlim = (genomic_coords.min(), genomic_coords.max())\n",
        "ax.set_xlim(xlim)\n",
        "for spine in ax.spines.values():\n",
        "    spine.set_visible(False)\n",
        "ax.tick_params(axis='both', which='both', length=0)\n",
        "ax.ticklabel_format(axis='x', style='plain', useOffset=False)\n",
        "ax.set_xlabel(\"Genomic position (bp)\", fontsize=10)\n",
        "ax.set_ylabel(\"Signal\", fontsize=10)\n",
        "plt.tight_layout()\n",
        "\n",
        "plt.show()\n"
      ]
    }
  ],
  "metadata": {
    "accelerator": "TPU",
    "colab": {
      "gpuType": "V28",
      "provenance": [],
      "include_colab_link": true
    },
    "kernelspec": {
      "display_name": "epcot",
      "language": "python",
      "name": "python3"
    },
    "language_info": {
      "codemirror_mode": {
        "name": "ipython",
        "version": 3
      },
      "file_extension": ".py",
      "mimetype": "text/x-python",
      "name": "python",
      "nbconvert_exporter": "python",
      "pygments_lexer": "ipython3",
      "version": "3.9.0"
    }
  },
  "nbformat": 4,
  "nbformat_minor": 0
}