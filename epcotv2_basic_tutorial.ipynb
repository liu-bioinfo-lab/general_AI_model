{
  "nbformat": 4,
  "nbformat_minor": 0,
  "metadata": {
    "colab": {
      "provenance": [],
      "gpuType": "A100",
      "machine_shape": "hm",
      "include_colab_link": true
    },
    "kernelspec": {
      "name": "python3",
      "display_name": "Python 3"
    },
    "language_info": {
      "name": "python"
    },
    "accelerator": "GPU"
  },
  "cells": [
    {
      "cell_type": "markdown",
      "metadata": {
        "id": "view-in-github",
        "colab_type": "text"
      },
      "source": [
        "<a href=\"https://colab.research.google.com/github/liu-bioinfo-lab/general_AI_model/blob/main/epcotv2_basic_tutorial.ipynb\" target=\"_parent\"><img src=\"https://colab.research.google.com/assets/colab-badge.svg\" alt=\"Open In Colab\"/></a>"
      ]
    },
    {
      "cell_type": "markdown",
      "source": [
        "Please open Google Colab notebook under TPU/GPU setting : **Runtime -> Change runtime type**"
      ],
      "metadata": {
        "id": "D5qpZqD-RGg0"
      }
    },
    {
      "cell_type": "code",
      "execution_count": null,
      "metadata": {
        "colab": {
          "base_uri": "https://localhost:8080/"
        },
        "id": "vWdYeHm1J31w",
        "outputId": "91e8eb05-678b-4917-b48b-dafa15f65494"
      },
      "outputs": [
        {
          "output_type": "stream",
          "name": "stdout",
          "text": [
            "Cloning into 'general_AI_model'...\n",
            "remote: Enumerating objects: 141, done.\u001b[K\n",
            "remote: Counting objects: 100% (30/30), done.\u001b[K\n",
            "remote: Compressing objects: 100% (24/24), done.\u001b[K\n",
            "remote: Total 141 (delta 15), reused 13 (delta 6), pack-reused 111 (from 2)\u001b[K\n",
            "Receiving objects: 100% (141/141), 68.62 MiB | 11.44 MiB/s, done.\n",
            "Resolving deltas: 100% (16/16), done.\n",
            "/content/general_AI_model\n"
          ]
        }
      ],
      "source": [
        "!git clone https://github.com/liu-bioinfo-lab/general_AI_model.git\n",
        "%cd general_AI_model"
      ]
    },
    {
      "cell_type": "code",
      "source": [
        "import os\n",
        "import gdown\n",
        "from src.model import build_model\n",
        "import argparse\n",
        "import torch\n",
        "try:\n",
        "  import torch_xla\n",
        "  import torch_xla.core.xla_model as xm\n",
        "  import torch_xla.distributed.xla_multiprocessing as xmp\n",
        "except Exception as e:\n",
        "  print(f\" Not using torch_xla\")\n",
        "!pip install kipoiseq==0.5.2 --quiet > /dev/null\n",
        "import kipoiseq\n",
        "from kipoiseq import Interval\n",
        "import pyfaidx\n",
        "import pickle\n",
        "import numpy as np\n",
        "from src.tutorial_utils import FastaStringExtractor, prepare_input, extract_outputs, get_args"
      ],
      "metadata": {
        "id": "DgYhJxG-Kq_D",
        "colab": {
          "base_uri": "https://localhost:8080/"
        },
        "outputId": "4a1a42a9-716a-4234-d6d2-ce601e1609ef"
      },
      "execution_count": null,
      "outputs": [
        {
          "output_type": "stream",
          "name": "stdout",
          "text": [
            " Not using torch_xla\n"
          ]
        }
      ]
    },
    {
      "cell_type": "markdown",
      "source": [
        "**Download Model**"
      ],
      "metadata": {
        "id": "auzsboB1NfQn"
      }
    },
    {
      "cell_type": "code",
      "source": [
        "os.makedirs('models', exist_ok=True)\n",
        "model_path = 'models/ckpt.pt'\n",
        "gdown.download('https://drive.google.com/uc?id=1aTpGvAUkvaxsDP_isA2n2Udbfqa9walW', model_path, quiet=False)"
      ],
      "metadata": {
        "colab": {
          "base_uri": "https://localhost:8080/",
          "height": 125
        },
        "id": "nZGmMdViMR2I",
        "outputId": "2c8c2140-cfa0-482d-d044-bf0e8b5c08de"
      },
      "execution_count": null,
      "outputs": [
        {
          "output_type": "stream",
          "name": "stderr",
          "text": [
            "Downloading...\n",
            "From (original): https://drive.google.com/uc?id=1aTpGvAUkvaxsDP_isA2n2Udbfqa9walW\n",
            "From (redirected): https://drive.google.com/uc?id=1aTpGvAUkvaxsDP_isA2n2Udbfqa9walW&confirm=t&uuid=fe309e31-648d-4103-95b2-2b04de8dfa02\n",
            "To: /content/general_AI_model/models/ckpt.pt\n",
            "100%|██████████| 468M/468M [00:07<00:00, 58.8MB/s]\n"
          ]
        },
        {
          "output_type": "execute_result",
          "data": {
            "text/plain": [
              "'models/ckpt.pt'"
            ],
            "application/vnd.google.colaboratory.intrinsic+json": {
              "type": "string"
            }
          },
          "metadata": {},
          "execution_count": 4
        }
      ]
    },
    {
      "cell_type": "code",
      "source": [
        "\n",
        "### The following codes are copied from https://github.com/deepmind/deepmind-research/blob/master/enformer/enformer-usage.ipynb\n",
        "fasta_file = '/root/data/genome.fa'\n",
        "!mkdir -p /root/data\n",
        "!wget -O - http://hgdownload.cse.ucsc.edu/goldenPath/hg38/bigZips/hg38.fa.gz | gunzip -c > {fasta_file}\n",
        "pyfaidx.Faidx(fasta_file)\n",
        "!ls /root/data\n",
        "\n",
        "fasta_extractor = FastaStringExtractor(fasta_file)"
      ],
      "metadata": {
        "colab": {
          "base_uri": "https://localhost:8080/"
        },
        "id": "98wUTlH9Y0LO",
        "outputId": "e2b36eee-1489-4ba2-a9d1-a922f41519ba"
      },
      "execution_count": null,
      "outputs": [
        {
          "output_type": "stream",
          "name": "stdout",
          "text": [
            "--2025-09-14 05:10:26--  http://hgdownload.cse.ucsc.edu/goldenPath/hg38/bigZips/hg38.fa.gz\n",
            "Resolving hgdownload.cse.ucsc.edu (hgdownload.cse.ucsc.edu)... 128.114.119.163\n",
            "Connecting to hgdownload.cse.ucsc.edu (hgdownload.cse.ucsc.edu)|128.114.119.163|:80... connected.\n",
            "HTTP request sent, awaiting response... 200 OK\n",
            "Length: 983659424 (938M) [application/x-gzip]\n",
            "Saving to: ‘STDOUT’\n",
            "\n",
            "-                   100%[===================>] 938.09M  10.2MB/s    in 59s     \n",
            "\n",
            "2025-09-14 05:11:26 (15.9 MB/s) - written to stdout [983659424/983659424]\n",
            "\n",
            "genome.fa  genome.fa.fai\n"
          ]
        }
      ]
    },
    {
      "cell_type": "code",
      "source": [
        "# Download a downsampled GM12878 ATAC-seq for example\n",
        "os.makedirs('tmp_save', exist_ok=True)\n",
        "atac_path = 'tmp_save/GM12878_ATAC.pickle'\n",
        "gdown.download('https://drive.google.com/uc?id=1ua-fQHYjPH658oEKEpIaDBHNFbzsO1m0', atac_path, quiet=False)\n",
        "with open(atac_path, 'rb') as f:\n",
        "    atac_data = pickle.load(f)"
      ],
      "metadata": {
        "colab": {
          "base_uri": "https://localhost:8080/"
        },
        "id": "1PP1IKWSZeu4",
        "outputId": "aefdd9ab-9d66-4c94-8ef8-5acc74864162"
      },
      "execution_count": null,
      "outputs": [
        {
          "output_type": "stream",
          "name": "stderr",
          "text": [
            "Downloading...\n",
            "From (original): https://drive.google.com/uc?id=1ua-fQHYjPH658oEKEpIaDBHNFbzsO1m0\n",
            "From (redirected): https://drive.google.com/uc?id=1ua-fQHYjPH658oEKEpIaDBHNFbzsO1m0&confirm=t&uuid=3b4b888c-4fd6-4057-9d2b-99e5661747a6\n",
            "To: /content/general_AI_model/tmp_save/GM12878_ATAC.pickle\n",
            "100%|██████████| 192M/192M [00:02<00:00, 68.3MB/s]\n",
            "/tmp/ipython-input-3254570976.py:6: DeprecationWarning: Please import `csr_matrix` from the `scipy.sparse` namespace; the `scipy.sparse.csr` namespace is deprecated and will be removed in SciPy 2.0.0.\n",
            "  atac_data = pickle.load(f)\n"
          ]
        }
      ]
    },
    {
      "cell_type": "markdown",
      "source": [
        "### Load model"
      ],
      "metadata": {
        "id": "Rhzni_KcF7pT"
      }
    },
    {
      "cell_type": "code",
      "source": [
        "args = get_args()\n",
        "try:\n",
        "    device = xm.xla_device()\n",
        "    print(f\"XLA device detected: {device}\")\n",
        "except Exception as e:\n",
        "    device = torch.device('cuda:0' if torch.cuda.is_available() else 'cpu')\n",
        "    print(f\"No XLA device detected. Error: {e}\")\n",
        "\n",
        "model = build_model(args)\n",
        "model.load_state_dict(torch.load(model_path, map_location='cpu'),strict=True)\n",
        "model.eval()\n",
        "model.to(device)\n",
        "device"
      ],
      "metadata": {
        "colab": {
          "base_uri": "https://localhost:8080/"
        },
        "id": "jF1WQNSQNL6O",
        "outputId": "17906638-2771-4fd7-ff3b-e323f483a523"
      },
      "execution_count": null,
      "outputs": [
        {
          "output_type": "stream",
          "name": "stdout",
          "text": [
            "No XLA device detected. Error: name 'xm' is not defined\n"
          ]
        },
        {
          "output_type": "execute_result",
          "data": {
            "text/plain": [
              "device(type='cuda', index=0)"
            ]
          },
          "metadata": {},
          "execution_count": 7
        }
      ]
    },
    {
      "cell_type": "markdown",
      "source": [
        "### Run model to get 1D and 2D representations over a 500kb region"
      ],
      "metadata": {
        "id": "lKFgC1KeGAft"
      }
    },
    {
      "cell_type": "code",
      "source": [
        "### specify the coordinates of a 500kb genomic region\n",
        "\n",
        "chrom, start, end = ['chr1', 1500000, 2000000]\n",
        "\n",
        "input_x = prepare_input(\n",
        "    fasta_extractor,\n",
        "    chrom, start, end,\n",
        "    atac_data\n",
        ").to(device)\n",
        "\n",
        "# with torch.no_grad():\n",
        "outputs = model(input_x,return_rep=True)\n",
        "\n",
        "rep1d, rep2d = extract_outputs(outputs)"
      ],
      "metadata": {
        "id": "E7OOCIXQR37c"
      },
      "execution_count": null,
      "outputs": []
    },
    {
      "cell_type": "markdown",
      "source": [
        "### embedding size"
      ],
      "metadata": {
        "id": "qM6tTrusFzkI"
      }
    },
    {
      "cell_type": "code",
      "source": [
        "## representation of each 1kb bin in 500kb region\n",
        "\n",
        "rep1d.shape"
      ],
      "metadata": {
        "colab": {
          "base_uri": "https://localhost:8080/"
        },
        "id": "f_uN8JH4dzWq",
        "outputId": "5cc580e4-3745-42c6-d243-2528624436d8"
      },
      "execution_count": null,
      "outputs": [
        {
          "output_type": "execute_result",
          "data": {
            "text/plain": [
              "(500, 960)"
            ]
          },
          "metadata": {},
          "execution_count": 18
        }
      ]
    },
    {
      "cell_type": "code",
      "source": [
        "## representation of interactions among 1kb bins in 500kb region\n",
        "\n",
        "rep2d.shape"
      ],
      "metadata": {
        "id": "99Uavd6IfB9o",
        "colab": {
          "base_uri": "https://localhost:8080/"
        },
        "outputId": "3c57b851-84c7-4940-b94b-64c773b7a560"
      },
      "execution_count": null,
      "outputs": [
        {
          "output_type": "execute_result",
          "data": {
            "text/plain": [
              "(500, 500, 96)"
            ]
          },
          "metadata": {},
          "execution_count": 19
        }
      ]
    },
    {
      "cell_type": "markdown",
      "source": [
        "### Prediction"
      ],
      "metadata": {
        "id": "PFJGdroTfndH"
      }
    },
    {
      "cell_type": "code",
      "source": [
        "modalities=['epi', 'rna', 'bru', 'microc', 'hic','intacthic','rna_strand','external_tf', 'tt', 'groseq', 'grocap', 'proseq','netcage','starr']\n",
        "_, _, output,external_output = outputs\n",
        "mix_output=[out.cpu().data.detach().numpy() for out in (output+external_output)]\n",
        "out_dic=dict(zip(modalities,mix_output))"
      ],
      "metadata": {
        "id": "7QmRYghAfLVs"
      },
      "execution_count": null,
      "outputs": []
    },
    {
      "cell_type": "code",
      "source": [
        "# the last dimension corresponds to modalities being predicted\n",
        "for m in modalities:\n",
        "    print(m,out_dic[m].shape)"
      ],
      "metadata": {
        "colab": {
          "base_uri": "https://localhost:8080/"
        },
        "id": "r8C8hDOvV65o",
        "outputId": "0e02326e-5dba-4078-d4f3-af4531903128"
      },
      "execution_count": null,
      "outputs": [
        {
          "output_type": "stream",
          "name": "stdout",
          "text": [
            "epi (1, 500, 247)\n",
            "rna (1, 500, 3)\n",
            "bru (1, 500, 3)\n",
            "microc (1, 500, 500, 2)\n",
            "hic (1, 100, 100, 3)\n",
            "intacthic (1, 500, 500, 2)\n",
            "rna_strand (1, 500, 2)\n",
            "external_tf (1, 500, 708)\n",
            "tt (1, 500, 2)\n",
            "groseq (1, 500, 2)\n",
            "grocap (1, 500, 4)\n",
            "proseq (1, 500, 3)\n",
            "netcage (1, 500, 2)\n",
            "starr (1, 500, 1)\n"
          ]
        }
      ]
    },
    {
      "cell_type": "markdown",
      "source": [
        "### Explanation of each modality that can be predicted\n",
        "\n",
        "* __Epigenomic features (epi).__ The list of epigenomic features can be found in \"data/epi_list\".\n",
        "\n",
        "* __RNA-seq (rna).__\n",
        "  - CAGE-seq\n",
        "  - Total RNA-seq\n",
        "  - PolyA+ RNA-seq\n",
        "\n",
        "* __Bru-seq (bru).__\n",
        "  - Bru-seq\n",
        "  - BruUV-seq\n",
        "  - BruChase-seq\n",
        "\n",
        "* __Micro-c (microc).__\n",
        "  - O/E normalized Micro-C\n",
        "  - KR normalized Micro-C\n",
        "\n",
        "* __Hi-C (hic).__\n",
        "  - CTCF ChIA-PET\n",
        "  - RNApol2 ChIA-PET\n",
        "  - Hi-C\n",
        "\n",
        "* __Intact Hi-C (intacthic).__\n",
        "  - O/E normalized intact Hi-C\n",
        "  - KR normalized intact Hi-C\n",
        "\n",
        "* __RNA Strand (rna_strand).__\n",
        "  - Total RNA-seq (forward)\n",
        "  - Total RNA-seq (reverse)\n",
        "\n",
        "* __Additional TFs (external_tf).__ The list of additional TFs can be found on Github in a file named unseen_tf.txt.\n",
        "\n",
        "* __TT-seq (tt).__\n",
        "  - TT-seq (forward)\n",
        "  - TT-seq (reverse)\n",
        "\n",
        "* __GRO-seq (groseq).__\n",
        "  - GRO-seq (forward)\n",
        "  - GRO-seq (reverse)\n",
        "\n",
        "* __GRO-cap (grocap).__\n",
        "  - GRO-cap (forward)\n",
        "  - GRO-cap (reverse)\n",
        "  - GRO-cap_wTAP (forward)\n",
        "  - GRO-cap_wTAP(reverse)\n",
        "\n",
        "* __PRO-seq (proseq).__\n",
        "  - PRO-seq (forward)\n",
        "  - PRO-seq (reverse)\n",
        "  - PRO-cap\n",
        "\n",
        "* __NET-CAGE (netcage).__\n",
        "  - NET-CAGE (forward)\n",
        "  - NET-CAGE (reverse)\n",
        "\n",
        "* __STARR-seq (starr).__ STARR-seq"
      ],
      "metadata": {
        "id": "2pei5X-Pf83f"
      }
    },
    {
      "cell_type": "code",
      "source": [],
      "metadata": {
        "id": "V3eW0fUreMOc"
      },
      "execution_count": null,
      "outputs": []
    }
  ]
}